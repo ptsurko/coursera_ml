{
 "cells": [
  {
   "cell_type": "code",
   "execution_count": 2,
   "metadata": {},
   "outputs": [],
   "source": [
    "%matplotlib inline\n",
    "\n",
    "import math\n",
    "import numpy as np\n",
    "import pandas as pd\n",
    "from matplotlib import cm\n",
    "import matplotlib.pyplot as plt\n",
    "from sklearn.preprocessing import normalize\n",
    "from sklearn import svm\n",
    "import scipy.io"
   ]
  },
  {
   "cell_type": "code",
   "execution_count": 78,
   "metadata": {
    "scrolled": true
   },
   "outputs": [
    {
     "data": {
      "image/png": "[encoded data removed]",
      "text/plain": [
       "<Figure size 432x288 with 1 Axes>"
      ]
     },
     "metadata": {
      "needs_background": "light"
     },
     "output_type": "display_data"
    }
   ],
   "source": [
    "mat = scipy.io.loadmat('./ex7/ex7data2.mat')\n",
    "X = mat.get('X')\n",
    "\n",
    "plt.plot(X[:,0], X[:,1], '+')\n",
    "plt.xlabel('X')\n",
    "plt.ylabel('Y')\n",
    "plt.show()"
   ]
  },
  {
   "cell_type": "code",
   "execution_count": 125,
   "metadata": {},
   "outputs": [],
   "source": [
    "def computeDistance(centroid):\n",
    "    return lambda row: np.sum((row - centroid) ** 2, axis=0)\n",
    "\n",
    "def findClosestCentroids(X, centroids):\n",
    "    distances = []\n",
    "    for centroid in centroids:\n",
    "        distances.append(np.apply_along_axis(computeDistance(centroid), axis=1, arr=X))\n",
    "        \n",
    "    return np.argmin(np.column_stack(distances), axis=1)\n",
    "\n",
    "def computeCentroids(X, idx, K):\n",
    "    centroids = []\n",
    "    for i in range(0, K):\n",
    "        centroids.append(np.mean(X[idx == i], axis=0))\n",
    "    return np.array(centroids)\n",
    "\n",
    "def runkMeans(X, K, initial_centroids, max_iters):\n",
    "    centroids = initial_centroids\n",
    "    centroid_hist = [centroids]\n",
    "    for _ in range(max_iters):\n",
    "        idx = findClosestCentroids(X, centroids)\n",
    "        centroids = computeCentroids(X, idx, K);\n",
    "        centroid_hist.append(centroids)\n",
    "        \n",
    "    return centroids, idx, np.array(centroid_hist)"
   ]
  },
  {
   "cell_type": "code",
   "execution_count": 83,
   "metadata": {
    "scrolled": false
   },
   "outputs": [
    {
     "name": "stdout",
     "output_type": "stream",
     "text": [
      "Closest centroids for the first 3 examples (should be [1 3 2]): [1 3 2]\n",
      "The centroids should be:\n",
      "[[ 2.428301 3.157924 ]\n",
      " [ 5.813503 2.633656 ]\n",
      " [ 7.119387 3.616684 ]\n",
      "\n",
      "Centroids computed after initial finding of closest centroids:\n",
      "[[2.42830111 3.15792418]\n",
      " [5.81350331 2.63365645]\n",
      " [7.11938687 3.6166844 ]]\n"
     ]
    }
   ],
   "source": [
    "K = 3\n",
    "initial_centroids = np.array([[3, 3], [6, 2], [8, 5]])\n",
    "\n",
    "idx = findClosestCentroids(X, initial_centroids)\n",
    "\n",
    "print('Closest centroids for the first 3 examples (should be [1 3 2]): %s' % (idx[0:3] + 1))\n",
    "\n",
    "centroids = computeCentroids(X, idx, K);\n",
    "\n",
    "print('The centroids should be:');\n",
    "print('[[ 2.428301 3.157924 ]');\n",
    "print(' [ 5.813503 2.633656 ]');\n",
    "print(' [ 7.119387 3.616684 ]\\n');\n",
    "print('Centroids computed after initial finding of closest centroids:\\n%s' % centroids)"
   ]
  },
  {
   "cell_type": "code",
   "execution_count": 131,
   "metadata": {},
   "outputs": [
    {
     "data": {
      "image/png": "[encoded data removed]",
      "text/plain": [
       "<Figure size 432x288 with 1 Axes>"
      ]
     },
     "metadata": {
      "needs_background": "light"
     },
     "output_type": "display_data"
    }
   ],
   "source": [
    "K = 3\n",
    "max_iters = 10;\n",
    "initial_centroids = np.array([[3, 3], [6, 2], [8, 5]])\n",
    "\n",
    "centroids, idx, centroid_hist = runkMeans(X, K, initial_centroids, max_iters)\n",
    "\n",
    "colors = ['red', 'green', 'blue']\n",
    "for k in range(K):\n",
    "    plt.plot(X[idx == k][:,0], X[idx == k][:,1], '+', color=colors[k])\n",
    "    plt.plot(centroid_hist[:,k,0], centroid_hist[:,k,1], '-x', color='black')\n",
    "    plt.plot(centroids[k,0], centroids[k,1], 'X', color=colors[k], markersize=15)\n",
    "\n",
    "    \n",
    "plt.xlabel('X')\n",
    "plt.ylabel('Y')\n",
    "plt.show()"
   ]
  },
  {
   "cell_type": "code",
   "execution_count": null,
   "metadata": {},
   "outputs": [],
   "source": [
    "# TODO: \n",
    "#  - cost function\n",
    "#  - random initialization\n",
    "#  - chart for number of clusters"
   ]
  }
 ],
 "metadata": {
  "kernelspec": {
   "display_name": "Python 3",
   "language": "python",
   "name": "python3"
  },
  "language_info": {
   "codemirror_mode": {
    "name": "ipython",
    "version": 3
   },
   "file_extension": ".py",
   "mimetype": "text/x-python",
   "name": "python",
   "nbconvert_exporter": "python",
   "pygments_lexer": "ipython3",
   "version": "3.6.6"
  }
 },
 "nbformat": 4,
 "nbformat_minor": 2
}
