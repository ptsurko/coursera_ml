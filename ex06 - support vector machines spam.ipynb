{
 "cells": [
  {
   "cell_type": "code",
   "execution_count": 79,
   "metadata": {},
   "outputs": [],
   "source": [
    "%matplotlib inline\n",
    "\n",
    "import math\n",
    "import re\n",
    "import numpy as np\n",
    "import pandas as pd\n",
    "from matplotlib import cm\n",
    "import matplotlib.pyplot as plt\n",
    "from sklearn.preprocessing import normalize\n",
    "from sklearn import svm\n",
    "import scipy.io\n",
    "\n",
    "from stemmer import PorterStemmer"
   ]
  },
  {
   "cell_type": "code",
   "execution_count": 202,
   "metadata": {},
   "outputs": [
    {
     "name": "stdout",
     "output_type": "stream",
     "text": [
      "> Anyone knows how much it costs to host a web portal ?\n",
      ">\n",
      "Well, it depends on how many visitors you're expecting.\n",
      "This can be anywhere from less than 10 bucks a month to a couple of $100. \n",
      "You should checkout http://www.rackspace.com/ or perhaps Amazon EC2 \n",
      "if youre running something big..\n",
      "\n",
      "To unsubscribe yourself from this mailing list, send an email to:\n",
      "groupname-unsubscribe@egroups.com\n",
      "\n",
      "\n"
     ]
    }
   ],
   "source": [
    "emailSample1 = ''\n",
    "with open('./ex6/emailSample1.txt') as fp:\n",
    "    emailSample1 = ''.join(line for line in fp)\n",
    "\n",
    "vocabulary_by_str = {}\n",
    "vocabulary_by_index = []\n",
    "vocabulary_len = 0\n",
    "with open('./ex6/vocab.txt') as fp:\n",
    "    for line in fp:\n",
    "        index, string = re.split('[\\t ]', line.strip())\n",
    "        vocabulary_by_str[string] = int(index) - 1\n",
    "        vocabulary_len += 1\n",
    "        vocabulary_by_index.append(string)\n",
    "\n",
    "print(emailSample1)"
   ]
  },
  {
   "cell_type": "code",
   "execution_count": 136,
   "metadata": {},
   "outputs": [
    {
     "name": "stdout",
     "output_type": "stream",
     "text": [
      "anyon know how much it cost to host a web portal well it depend on how mani visitor your expect thi can be anywher from less than number buck a month to a coupl of dollarnumb you should checkout httpaddr or perhap amazon ecnumb if your run someth big to unsubscrib yourself from thi mail list send an email to emailaddr\n"
     ]
    }
   ],
   "source": [
    "def compose(*functions):\n",
    "    def inner(arg):\n",
    "        for f in functions:\n",
    "            arg = f(arg)\n",
    "        return arg\n",
    "    return inner\n",
    "\n",
    "def toLowerCase(string):\n",
    "    return string.lower()\n",
    "\n",
    "def normalizeHTML(string):\n",
    "    return re.sub('<[^<>]+>', '', string)\n",
    "\n",
    "def normalizeUrls(string):\n",
    "    return re.sub('(http|https)://[^\\s]*', 'httpaddr', string)\n",
    "\n",
    "def normalizeEmails(string):\n",
    "    return re.sub('[^\\s]+@[^\\s]+', 'emailaddr', string)\n",
    "\n",
    "def normalizeNumbers(string):\n",
    "    return re.sub('[0-9]+', 'number', string)\n",
    "\n",
    "def normalizeDollars(string):\n",
    "    return re.sub('[$]+', 'dollar', string)\n",
    "\n",
    "def stemWords(string):\n",
    "    tokens = []\n",
    "    stemmer = PorterStemmer()\n",
    "    for token in re.split('[ @$/#.-:&*+=\\[\\]?!(){},''\">_<;%\\n\\r]', string):\n",
    "        stripped = re.sub('[^a-zA-Z0-9]', '', token.strip());\n",
    "        if stripped:\n",
    "            word = stemmer.stem(stripped)\n",
    "            tokens.append(word)\n",
    "    \n",
    "    return tokens\n",
    "\n",
    "email_tokens = compose(\n",
    "    toLowerCase, \n",
    "    normalizeHTML, \n",
    "    normalizeNumbers,\n",
    "    normalizeUrls, \n",
    "    normalizeEmails, \n",
    "    normalizeDollars, \n",
    "    stemWords\n",
    ")(emailSample1)\n",
    "\n",
    "print(' '.join(email_tokens))"
   ]
  },
  {
   "cell_type": "code",
   "execution_count": 179,
   "metadata": {
    "scrolled": true
   },
   "outputs": [],
   "source": [
    "def extract_features(email_tokens):\n",
    "    X = np.zeros(vocabulary_len)\n",
    "    \n",
    "    for token in email_tokens:\n",
    "        if token in vocabulary_by_str:\n",
    "            X[vocabulary_by_str[token]] = 1\n",
    "    \n",
    "    return X\n",
    "\n",
    "mat = scipy.io.loadmat('./ex6/spamTrain.mat')\n",
    "X = mat.get('X')\n",
    "y = mat.get('y').ravel()\n",
    "\n",
    "mat = scipy.io.loadmat('./ex6/spamTest.mat')\n",
    "Xtest = mat.get('Xtest')\n",
    "ytest = mat.get('ytest').ravel()"
   ]
  },
  {
   "cell_type": "code",
   "execution_count": 210,
   "metadata": {
    "scrolled": false
   },
   "outputs": [
    {
     "name": "stdout",
     "output_type": "stream",
     "text": [
      "Training Accuracy: 99.825\n",
      "Test Accuracy: 98.9\n"
     ]
    }
   ],
   "source": [
    "np.set_printoptions(threshold=np.nan)\n",
    "\n",
    "\n",
    "clf = svm.SVC(kernel='linear', C=0.1)\n",
    "clf.fit(X, y)\n",
    "\n",
    "train_predictions = clf.predict(X)\n",
    "test_predictions = clf.predict(Xtest)\n",
    "\n",
    "print('Training Accuracy: %s' % (np.mean(train_predictions == y) * 100))\n",
    "print('Test Accuracy: %s' % (np.mean(test_predictions == ytest) * 100))"
   ]
  },
  {
   "cell_type": "code",
   "execution_count": 209,
   "metadata": {},
   "outputs": [
    {
     "name": "stdout",
     "output_type": "stream",
     "text": [
      "Top predictors of spam:\n",
      "dollarnumb      0.22963916284457375\n",
      "want            0.23194709265954988\n",
      "se              0.2329549624596594\n",
      "da              0.2332612152321099\n",
      "al              0.23731066817215565\n",
      "hour            0.24640435783158998\n",
      "ga              0.24829699045568662\n",
      "lo              0.25346652431419925\n",
      "nbsp            0.2539414551595324\n",
      "most            0.2572981979518164\n",
      "pleas           0.2611688867001495\n",
      "price           0.2672977146177071\n",
      "will            0.2697241060374008\n",
      "dollar          0.3236320357963838\n",
      "basenumb        0.3450640979461706\n",
      "visit           0.367710398245535\n",
      "guarante        0.38362160179406524\n",
      "remov           0.42286911706104086\n",
      "click           0.465916390688888\n",
      "our             0.5006137361746403\n"
     ]
    }
   ],
   "source": [
    "coef = clf.coef_.ravel()\n",
    "indices = np.argsort(coef)[-20:]\n",
    "\n",
    "print('Top predictors of spam:')\n",
    "for index in indices:\n",
    "    print('%-15s %-15s' % (vocabulary_by_index[index], coef[index]))"
   ]
  }
 ],
 "metadata": {
  "kernelspec": {
   "display_name": "Python 3",
   "language": "python",
   "name": "python3"
  },
  "language_info": {
   "codemirror_mode": {
    "name": "ipython",
    "version": 3
   },
   "file_extension": ".py",
   "mimetype": "text/x-python",
   "name": "python",
   "nbconvert_exporter": "python",
   "pygments_lexer": "ipython3",
   "version": "3.6.6"
  }
 },
 "nbformat": 4,
 "nbformat_minor": 2
}
